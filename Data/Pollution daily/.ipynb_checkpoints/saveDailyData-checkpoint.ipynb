{
 "cells": [
  {
   "cell_type": "code",
   "execution_count": 23,
   "metadata": {},
   "outputs": [],
   "source": [
    "%matplotlib inline \n",
    "import os\n",
    "import random\n",
    "import numpy as np\n",
    "import pandas as pd\n",
    "import matplotlib.pyplot as plt\n",
    "import csv\n",
    "import datetime"
   ]
  },
  {
   "cell_type": "code",
   "execution_count": 2,
   "metadata": {},
   "outputs": [],
   "source": [
    "file = \"4_day_grid_15_min.csv\"\n",
    "data = []\n",
    "with open(file) as csvfile:\n",
    "    readCSV = csv.reader(csvfile, delimiter=\" \")\n",
    "    for row in readCSV:\n",
    "        data.append(float(row[0]))"
   ]
  },
  {
   "cell_type": "code",
   "execution_count": 3,
   "metadata": {},
   "outputs": [],
   "source": [
    "data = np.asarray(data)\n",
    "data = data.reshape(247,20,20)\n",
    "print(data.shape)"
   ]
  },
  {
   "cell_type": "code",
   "execution_count": 6,
   "metadata": {},
   "outputs": [],
   "source": [
    "# one hour: 4\n",
    "# one day: 4*24=96\n",
    "day1 = data[0:96]\n",
    "day2 = data[96:192]\n",
    "day3 = data[192:]\n",
    "\n",
    "print(day1.shape)\n",
    "print(day2.shape)\n",
    "print(day3.shape)"
   ]
  },
  {
   "cell_type": "code",
   "execution_count": 38,
   "metadata": {},
   "outputs": [],
   "source": [
    "year = 2018\n",
    "month = 7\n",
    "day = 25\n",
    "hour = 0\n",
    "minute = 0\n",
    "index = 0\n",
    "for grid in day3:\n",
    "    t = datetime.datetime(year, month, day, hour, minute)\n",
    "    minute += 15\n",
    "    if(minute == 60):\n",
    "        minute = 0\n",
    "        hour += 1\n",
    "    path = \"data/day3/gp\" + str(index) + \".txt\"\n",
    "    np.savetxt(path, grid, delimiter=' ', header=str(t), comments='')\n",
    "    index += 1"
   ]
  }
 ],
 "metadata": {
  "kernelspec": {
   "display_name": "Python 3",
   "language": "python",
   "name": "python3"
  },
  "language_info": {
   "codemirror_mode": {
    "name": "ipython",
    "version": 3
   },
   "file_extension": ".py",
   "mimetype": "text/x-python",
   "name": "python",
   "nbconvert_exporter": "python",
   "pygments_lexer": "ipython3",
   "version": "3.7.3"
  }
 },
 "nbformat": 4,
 "nbformat_minor": 2
}
