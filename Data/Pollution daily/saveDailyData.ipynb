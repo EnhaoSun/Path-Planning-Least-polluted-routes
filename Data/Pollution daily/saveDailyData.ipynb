{
 "cells": [
  {
   "cell_type": "code",
   "execution_count": 2,
   "metadata": {},
   "outputs": [],
   "source": [
    "%matplotlib inline \n",
    "import os\n",
    "import random\n",
    "import numpy as np\n",
    "import pandas as pd\n",
    "import matplotlib.pyplot as plt\n",
    "import csv\n",
    "import datetime"
   ]
  },
  {
   "cell_type": "code",
   "execution_count": 3,
   "metadata": {},
   "outputs": [],
   "source": [
    "#file = \"4_day_grid_15_min.csv\"\n",
    "file = \"cnn_2019_sample.csv\"\n",
    "data = []\n",
    "with open(file) as csvfile:\n",
    "    readCSV = csv.reader(csvfile, delimiter=\" \")\n",
    "    for row in readCSV:\n",
    "        data.append(float(row[0]))"
   ]
  },
  {
   "cell_type": "code",
   "execution_count": 4,
   "metadata": {},
   "outputs": [
    {
     "name": "stdout",
     "output_type": "stream",
     "text": [
      "(467, 20, 20)\n"
     ]
    }
   ],
   "source": [
    "data = np.asarray(data)\n",
    "#data = data.reshape(247,20,20)\n",
    "data = data.reshape(467,20,20)\n",
    "print(data.shape)"
   ]
  },
  {
   "cell_type": "code",
   "execution_count": 12,
   "metadata": {},
   "outputs": [
    {
     "name": "stdout",
     "output_type": "stream",
     "text": [
      "(96, 20, 20)\n",
      "(96, 20, 20)\n",
      "(96, 20, 20)\n",
      "(96, 20, 20)\n",
      "(80, 20, 20)\n"
     ]
    }
   ],
   "source": [
    "# one hour: 4\n",
    "# one day: 4*24=96\n",
    "day1 = data[3:99]\n",
    "day2 = data[99:195]\n",
    "day3 = data[195:291]\n",
    "day4 = data[291:387]\n",
    "day5 = data[387:]\n",
    "\n",
    "print(day1.shape)\n",
    "print(day2.shape)\n",
    "print(day3.shape)\n",
    "print(day4.shape)\n",
    "print(day5.shape)"
   ]
  },
  {
   "cell_type": "code",
   "execution_count": null,
   "metadata": {},
   "outputs": [],
   "source": [
    "0,4,8,12,16"
   ]
  },
  {
   "cell_type": "code",
   "execution_count": 13,
   "metadata": {},
   "outputs": [],
   "source": [
    "from mpl_toolkits.mplot3d import Axes3D\n",
    "import matplotlib.cm as cm\n",
    "from matplotlib.ticker import MaxNLocator\n",
    "from matplotlib import interactive"
   ]
  },
  {
   "cell_type": "code",
   "execution_count": 7,
   "metadata": {},
   "outputs": [
    {
     "name": "stdout",
     "output_type": "stream",
     "text": [
      "(20, 20)\n",
      "(20, 20)\n"
     ]
    },
    {
     "data": {
      "text/plain": [
       "'\\nax = fig.add_subplot(1,1,1, projection=\\'3d\\')\\nscat = ax.scatter(X, Y, dg,c=color, cmap=\"viridis_r\")\\nax.set_xlabel(\\'lat\\')\\nax.set_ylabel(\\'long\\')\\nax.set_zlabel(\\'PM2.5\\')\\nax.set_zlim(0, 3)\\nax.xaxis.set_major_locator(MaxNLocator(integer=True))\\nax.yaxis.set_major_locator(MaxNLocator(integer=True))\\nplt.colorbar(scat)\\n'"
      ]
     },
     "execution_count": 7,
     "metadata": {},
     "output_type": "execute_result"
    },
    {
     "data": {
      "image/png": "[encoded data removed]",
      "text/plain": [
       "<Figure size 432x288 with 5 Axes>"
      ]
     },
     "metadata": {
      "needs_background": "light"
     },
     "output_type": "display_data"
    }
   ],
   "source": [
    "fig = plt.figure()\n",
    "x = y = np.arange(0, 20, 1)\n",
    "X, Y = np.meshgrid(x, y)\n",
    "print(X.shape)\n",
    "print(Y.shape)\n",
    "\n",
    "for i in range(5):\n",
    "    ax = fig.add_subplot(1,5,i+1)\n",
    "    ax.imshow(day4[i], cmap='hot', interpolation='nearest')\n",
    "\n",
    "'''\n",
    "ax = fig.add_subplot(1,1,1, projection='3d')\n",
    "scat = ax.scatter(X, Y, dg,c=color, cmap=\"viridis_r\")\n",
    "ax.set_xlabel('lat')\n",
    "ax.set_ylabel('long')\n",
    "ax.set_zlabel('PM2.5')\n",
    "ax.set_zlim(0, 3)\n",
    "ax.xaxis.set_major_locator(MaxNLocator(integer=True))\n",
    "ax.yaxis.set_major_locator(MaxNLocator(integer=True))\n",
    "plt.colorbar(scat)\n",
    "'''"
   ]
  },
  {
   "cell_type": "code",
   "execution_count": 17,
   "metadata": {},
   "outputs": [],
   "source": [
    "year = 2019\n",
    "month = 7\n",
    "day = 26 \n",
    "hour = 0\n",
    "minute = 0\n",
    "index = 0\n",
    "for grid in day4:\n",
    "    path = \"cnn/day4/gp\" + str(index) + \".txt\"\n",
    "    t = datetime.datetime(year, month, day, hour, minute)\n",
    "    minute += 15\n",
    "    if(minute == 60):\n",
    "        minute = 0\n",
    "        hour += 1\n",
    "    np.savetxt(path, grid, delimiter=' ', header=str(t), comments='')\n",
    "    index += 1"
   ]
  },
  {
   "cell_type": "code",
   "execution_count": null,
   "metadata": {},
   "outputs": [],
   "source": []
  }
 ],
 "metadata": {
  "kernelspec": {
   "display_name": "Python 3",
   "language": "python",
   "name": "python3"
  },
  "language_info": {
   "codemirror_mode": {
    "name": "ipython",
    "version": 3
   },
   "file_extension": ".py",
   "mimetype": "text/x-python",
   "name": "python",
   "nbconvert_exporter": "python",
   "pygments_lexer": "ipython3",
   "version": "3.7.3"
  }
 },
 "nbformat": 4,
 "nbformat_minor": 2
}
