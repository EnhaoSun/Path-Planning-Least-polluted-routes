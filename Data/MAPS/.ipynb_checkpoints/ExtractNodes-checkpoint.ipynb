{
 "cells": [
  {
   "cell_type": "code",
   "execution_count": 1,
   "metadata": {},
   "outputs": [],
   "source": [
    "import osmium as osm\n",
    "import pandas as pd\n",
    "import numpy as np\n",
    "import tqdm\n",
    "import scipy.io"
   ]
  },
  {
   "cell_type": "code",
   "execution_count": 2,
   "metadata": {
    "scrolled": false
   },
   "outputs": [
    {
     "name": "stdout",
     "output_type": "stream",
     "text": [
      "1062002\n",
      "23394\n"
     ]
    }
   ],
   "source": [
    "class OSMHandler(osm.SimpleHandler):\n",
    "    def __init__(self):\n",
    "        osm.SimpleHandler.__init__(self)\n",
    "        self.osm_node = []\n",
    "        self.osm_way = []\n",
    "        self.osm_data = []\n",
    "\n",
    "    def node(self, n):\n",
    "        self.osm_node.append([\n",
    "                               n.id,\n",
    "                               n.location.lat,\n",
    "                               n.location.lon,\n",
    "                             ])\n",
    "\n",
    "    def way(self, w):\n",
    "        nodes = []\n",
    "        for node in w.nodes:\n",
    "            nodes.append(node.ref)\n",
    "        tags = {}\n",
    "        for tag in w.tags:\n",
    "            tags[tag.k] = tag.v\n",
    "        if tags.get(\"highway\") != None:\n",
    "            self.osm_way.append([\n",
    "                                   w.id,\n",
    "                                   nodes,\n",
    "                                   tags\n",
    "                               ])\n",
    "osmhandler = OSMHandler()\n",
    "# scan the input file and fills the handler list accordingly\n",
    "osmhandler.apply_file(\"edinburgh.osm\")\n",
    "# transform the list into a pandas DataFrame\n",
    "\n",
    "node = osmhandler.osm_node\n",
    "way = osmhandler.osm_way\n",
    "\n",
    "\n",
    "print(len(node))\n",
    "print(len(way))\n",
    "\n",
    "node_colnames = ['id', 'lat', 'lon']\n",
    "df_node = pd.DataFrame(node, columns=node_colnames)\n",
    "df_node = df_node.drop_duplicates()"
   ]
  },
  {
   "cell_type": "code",
   "execution_count": null,
   "metadata": {},
   "outputs": [],
   "source": [
    "with open('node_ed.txt', 'w') as f1:\n",
    "    for i in tqdm.tqdm(range(len(node))):\n",
    "        no = node[i]\n",
    "        f1.write(str(no[0]) +\" \" + str(no[1]) + \" \" + str(no[2]) + \"\\n\")\n",
    "f1.close()"
   ]
  },
  {
   "cell_type": "code",
   "execution_count": null,
   "metadata": {},
   "outputs": [],
   "source": [
    "# sidewalk: both, left, right \n",
    "# foot: yes, no\n",
    "#for curway in range(0, len(way)):\n",
    "#connectivity_matrix = np.zeros((len(node), len(node)), dtype=int)\n",
    "connectivity_matrix = [[]*1 for i in range(len(node))]\n",
    "for curway in tqdm.tqdm(range(len(way))):\n",
    "    #current way node set\n",
    "    nodeset = way[curway][1]\n",
    "    nodes_num = len(nodeset)\n",
    "    \n",
    "    \n",
    "    for node_local_index in range(0, nodes_num - 1):\n",
    "        node_id = nodeset[node_local_index]\n",
    "        #node_index = np.where(df_node['id'] == node_id)[0][0]\n",
    "        node_index = df_node[df_node['id'] == node_id]['id'].keys()[0]\n",
    "        \n",
    "        neighbor_id = nodeset[node_local_index+1]\n",
    "        neighbor_index = df_node[df_node['id'] == neighbor_id]['id'].keys()[0]\n",
    "        #neighbor_index = np.where(df_node['id'] == neighbor_id)[0][0]\n",
    "        \n",
    "        if neighbor_index not in connectivity_matrix[node_index]:\n",
    "            connectivity_matrix[node_index].append(neighbor_index)\n",
    "                \n",
    "        if node_index not in connectivity_matrix[neighbor_index]:\n",
    "            connectivity_matrix[neighbor_index].append(node_index)\n",
    "        \n",
    "        #connectivity_matrix[node_index, neighbor_index] = 1\n",
    "        #connectivity_matrix[neighbor_index, node_index] = 1"
   ]
  },
  {
   "cell_type": "code",
   "execution_count": null,
   "metadata": {
    "scrolled": true
   },
   "outputs": [],
   "source": [
    "with open('adjacency_ed.txt', 'w') as f1:\n",
    "    for i in tqdm.tqdm(range(len(connectivity_matrix))):\n",
    "        #if len(connectivity_matrix[i]) > 0:\n",
    "        f1.write( str(i) + \": \")\n",
    "        for item in connectivity_matrix[i]:\n",
    "            f1.write(str(item) +\" \")\n",
    "        f1.write(\"\\n\")\n",
    "        f1.flush()\n",
    "f1.close()"
   ]
  },
  {
   "cell_type": "code",
   "execution_count": null,
   "metadata": {},
   "outputs": [],
   "source": []
  },
  {
   "cell_type": "code",
   "execution_count": null,
   "metadata": {
    "scrolled": true
   },
   "outputs": [],
   "source": [
    "keylist = []\n",
    "pedestrain = [\"sidewalk\", \"foot\", \"footway\"]\n",
    "cyclelist = [\"cycleway\", \"cycleway:left\", \"cycleway:right\", \"cycleway:left:oneway\", \"cycleway:middle\", \"cycle\"]\n",
    "footway = 0;\n",
    "for i in range(0, len(way)):\n",
    "    '''\n",
    "    if any(key in way[i][2].keys() for key in pedestrain):\n",
    "        for key in pedestrain:\n",
    "            if way[i][2].get(key) is not None:\n",
    "                print(key + \": \" + way[i][2].get(key))\n",
    "    '''\n",
    "            \n",
    "    for key in way[i][2].keys():\n",
    "        '''\n",
    "        if key in pedestrain:\n",
    "            if way[curway][2].get(key) == \"no\":\n",
    "                print(key + \": \" + way[i][2].get(key))\n",
    "        '''\n",
    "        if key not in keylist:\n",
    "            keylist.append(key)\n",
    "            print(key)\n",
    "#print(keylist)"
   ]
  }
 ],
 "metadata": {
  "kernelspec": {
   "display_name": "Python 3",
   "language": "python",
   "name": "python3"
  },
  "language_info": {
   "codemirror_mode": {
    "name": "ipython",
    "version": 3
   },
   "file_extension": ".py",
   "mimetype": "text/x-python",
   "name": "python",
   "nbconvert_exporter": "python",
   "pygments_lexer": "ipython3",
   "version": "3.7.3"
  }
 },
 "nbformat": 4,
 "nbformat_minor": 2
}
