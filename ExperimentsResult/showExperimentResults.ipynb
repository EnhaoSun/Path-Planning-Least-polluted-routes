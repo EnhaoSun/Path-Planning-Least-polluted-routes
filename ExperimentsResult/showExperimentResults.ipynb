{
 "cells": [
  {
   "cell_type": "code",
   "execution_count": 1,
   "metadata": {},
   "outputs": [],
   "source": [
    "import numpy as np\n",
    "import matplotlib.pyplot as plt\n",
    "import os\n",
    "import pandas as pd"
   ]
  },
  {
   "cell_type": "code",
   "execution_count": 51,
   "metadata": {
    "scrolled": true
   },
   "outputs": [
    {
     "name": "stdout",
     "output_type": "stream",
     "text": [
      "Index(['Routes', 'RT-Di', 'Node-Di', 'RT-A', 'Node-A', 'RT-BiA', 'Node-BiA',\n",
      "       'PM', 'Distance'],\n",
      "      dtype='object')\n"
     ]
    }
   ],
   "source": [
    "df = pd.read_csv(\"ExperimentResult.csv\")\n",
    "print(df.columns)"
   ]
  },
  {
   "cell_type": "code",
   "execution_count": 52,
   "metadata": {},
   "outputs": [
    {
     "name": "stdout",
     "output_type": "stream",
     "text": [
      "['L1', 'L2', 'L3', 'M1', 'M2', 'M3', 'S1', 'S2', 'S3']\n",
      "[65, 57, 53, 23, 29, 25, 15, 13, 16]\n",
      "[67, 61, 63, 26, 31, 23, 16, 14, 16]\n",
      "[58, 60, 60, 24, 27, 23, 19, 20, 19]\n",
      "[78494, 73048, 61015, 21613, 30172, 19520, 6512, 3161, 3990]\n",
      "[63339, 62137, 56070, 14674, 23663, 12192, 4713, 2137, 2923]\n",
      "[30688, 33728, 32059, 6218, 8948, 5113, 2785, 1136, 2210]\n",
      "[67.53, 78.16, 68.75, 32.28, 42.2, 35.1, 22.84, 13.8, 17.19]\n",
      "[7.96, 8.16, 8.74, 3.86, 4.37, 3.47, 1.49, 1.27, 1.7]\n"
     ]
    }
   ],
   "source": [
    "routes = list(df['Routes'])\n",
    "rt_di = list(df['RT-Di'])\n",
    "rt_A = list(df['RT-A'])\n",
    "rt_BiA = list(df['RT-BiA'])\n",
    "node_di = list(df['Node-Di'])\n",
    "node_A = list(df['Node-A'])\n",
    "node_BiA = list(df['Node-BiA'])\n",
    "PM = list(df['PM'])\n",
    "Distance = list(df['Distance'])\n",
    "\n",
    "print(routes)\n",
    "print(rt_di)\n",
    "print(rt_A)\n",
    "print(rt_BiA)\n",
    "print(node_di)\n",
    "print(node_A)\n",
    "print(node_BiA)\n",
    "print(PM)\n",
    "print(Distance)"
   ]
  },
  {
   "cell_type": "code",
   "execution_count": 53,
   "metadata": {},
   "outputs": [
    {
     "name": "stdout",
     "output_type": "stream",
     "text": [
      "[ 8.48366834  9.57843137  7.86613272  8.3626943   9.65675057 10.11527378\n",
      " 15.32885906 10.86614173 10.11176471]\n"
     ]
    }
   ],
   "source": [
    "#Average PM/per mile\n",
    "PM = np.asarray(PM, dtype=np.float)\n",
    "Distance = np.asarray(Distance, dtype=np.float)\n",
    "PM = PM/Distance\n",
    "print(PM)"
   ]
  },
  {
   "cell_type": "markdown",
   "metadata": {},
   "source": [
    "# Runtime"
   ]
  },
  {
   "cell_type": "code",
   "execution_count": 69,
   "metadata": {
    "scrolled": true
   },
   "outputs": [
    {
     "data": {
      "image/png": "[encoded data removed]",
      "text/plain": [
       "<Figure size 360x360 with 1 Axes>"
      ]
     },
     "metadata": {
      "needs_background": "light"
     },
     "output_type": "display_data"
    }
   ],
   "source": [
    "#rt_di, rt_A, rt_BiA\n",
    "Lrt_di = rt_di[0:3]\n",
    "Lrt_A = rt_A[0:3]\n",
    "Lrt_BiA = rt_BiA[0:3]\n",
    "\n",
    "Mrt_di = rt_di[3:6]\n",
    "Mrt_A = rt_A[3:6]\n",
    "Mrt_BiA = rt_BiA[3:6]\n",
    "\n",
    "Srt_di = rt_di[6:]\n",
    "Srt_A = rt_A[6:]\n",
    "Srt_BiA = rt_BiA[6:]\n",
    "\n",
    "fig, ax = plt.subplots()\n",
    "fig.set_size_inches(5, 5)\n",
    "index = np.arange(3)\n",
    "bar_width = 0.15\n",
    "opacity = 0.8\n",
    "\n",
    "#rects1 = plt.bar(index, Lrt_di, bar_width, alpha=opacity, color='b', label='Dijkstra')\n",
    "#rects2 = plt.bar(index + bar_width, Lrt_A, bar_width, alpha=opacity, color='g', label='A*')\n",
    "#rects3 = plt.bar(index + 2*bar_width, Lrt_BiA, bar_width, alpha=opacity, color='r', label='Bi-A*')\n",
    "#plt.xticks(index + bar_width, ('L1', 'L2', 'L3'))\n",
    "#plt.title('Runtime for Long distance')\n",
    "\n",
    "#rects1 = plt.bar(index, Mrt_di, bar_width, alpha=opacity, color='b', label='Dijkstra')\n",
    "#rects2 = plt.bar(index + bar_width, Mrt_A, bar_width, alpha=opacity, color='g', label='A*')\n",
    "#rects3 = plt.bar(index + 2*bar_width, Mrt_BiA, bar_width, alpha=opacity, color='r', label='Bi-A*')\n",
    "#plt.xticks(index + bar_width, ('M1', 'M2', 'M3'))\n",
    "#plt.title('Runtime for Middle distance')\n",
    "\n",
    "rects1 = plt.bar(index, Srt_di, bar_width, alpha=opacity, color='b', label='Dijkstra')\n",
    "rects2 = plt.bar(index + bar_width, Srt_A, bar_width, alpha=opacity, color='g', label='A*')\n",
    "rects3 = plt.bar(index + 2*bar_width, Srt_BiA, bar_width, alpha=opacity, color='r', label='Bi-A*')\n",
    "plt.xticks(index + bar_width, ('S1', 'S2', 'S3'))\n",
    "plt.title('Runtime for Short distance')\n",
    "plt.xlabel('Routes')\n",
    "plt.ylabel('Runtime(ms)')\n",
    "plt.legend(loc=\"lower right\")\n",
    "plt.tight_layout()\n",
    "plt.savefig(\"RT_Short.pdf\")"
   ]
  },
  {
   "cell_type": "code",
   "execution_count": 71,
   "metadata": {
    "scrolled": true
   },
   "outputs": [
    {
     "data": {
      "image/png": "[encoded data removed]",
      "text/plain": [
       "<Figure size 360x360 with 1 Axes>"
      ]
     },
     "metadata": {
      "needs_background": "light"
     },
     "output_type": "display_data"
    }
   ],
   "source": [
    "#node_di, node_A, node_BiA\n",
    "Lnode_di = node_di[0:3]\n",
    "Lnode_A = node_A[0:3]\n",
    "Lnode_BiA = node_BiA[0:3]\n",
    "\n",
    "Mnode_di = node_di[3:6]\n",
    "Mnode_A = node_A[3:6]\n",
    "Mnode_BiA = node_BiA[3:6]\n",
    "\n",
    "Snode_di = node_di[6:]\n",
    "Snode_A = node_A[6:]\n",
    "Snode_BiA = node_BiA[6:]\n",
    "\n",
    "fig, ax = plt.subplots()\n",
    "fig.set_size_inches(5, 5)\n",
    "index = np.arange(3)\n",
    "bar_width = 0.15\n",
    "opacity = 0.8\n",
    "\n",
    "#rects1 = plt.bar(index, Lnode_di, bar_width, alpha=opacity, color='b', label='Dijkstra')\n",
    "#rects2 = plt.bar(index + bar_width, Lnode_A, bar_width, alpha=opacity, color='g', label='A*')\n",
    "#rects3 = plt.bar(index + 2*bar_width, Lnode_BiA, bar_width, alpha=opacity, color='r', label='Bi-A*')\n",
    "#plt.title('Number of expanded nodes for Long distance')\n",
    "#plt.xticks(index + bar_width, ('L1', 'L2', 'L3'))\n",
    "\n",
    "rects1 = plt.bar(index, Mnode_di, bar_width, alpha=opacity, color='b', label='Dijkstra')\n",
    "rects2 = plt.bar(index + bar_width, Mnode_A, bar_width, alpha=opacity, color='g', label='A*')\n",
    "rects3 = plt.bar(index + 2*bar_width, Mnode_BiA, bar_width, alpha=opacity, color='r', label='Bi-A*')\n",
    "plt.title('Number of expanded nodes for Middle distance')\n",
    "plt.xticks(index + bar_width, ('M1', 'M2', 'M3'))\n",
    "\n",
    "#rects1 = plt.bar(index, Snode_di, bar_width, alpha=opacity, color='b', label='Dijkstra')\n",
    "#rects2 = plt.bar(index + bar_width, Snode_A, bar_width, alpha=opacity, color='g', label='A*')\n",
    "#rects3 = plt.bar(index + 2*bar_width, Snode_BiA, bar_width, alpha=opacity, color='r', label='Bi-A*')\n",
    "#plt.title('Number of expanded nodes for Short distance')\n",
    "#plt.xticks(index + bar_width, ('S1', 'S2', 'S3'))\n",
    "\n",
    "plt.xlabel('Routes')\n",
    "plt.ylabel('Number of expanded nodes')\n",
    "plt.legend()\n",
    "plt.tight_layout()\n",
    "#plt.show()\n",
    "plt.savefig(\"Node_middle.pdf\")"
   ]
  },
  {
   "cell_type": "code",
   "execution_count": null,
   "metadata": {},
   "outputs": [],
   "source": []
  },
  {
   "cell_type": "code",
   "execution_count": 63,
   "metadata": {
    "scrolled": true
   },
   "outputs": [
    {
     "data": {
      "image/png": "[encoded data removed]",
      "text/plain": [
       "<Figure size 360x360 with 1 Axes>"
      ]
     },
     "metadata": {
      "needs_background": "light"
     },
     "output_type": "display_data"
    }
   ],
   "source": [
    "#PM\n",
    "LPM = PM[0:3]\n",
    "MPM = PM[3:6]\n",
    "SPM = PM[6:]\n",
    "\n",
    "fig, ax = plt.subplots()\n",
    "fig.set_size_inches(5, 5)\n",
    "index = np.arange(3)\n",
    "bar_width = 0.15\n",
    "opacity = 0.8\n",
    "\n",
    "rects1 = plt.bar(index, LPM, bar_width, alpha=opacity, color='b', label='Dijkstra')\n",
    "rects2 = plt.bar(index + bar_width, LPM, bar_width, alpha=opacity, color='g', label='A*')\n",
    "rects3 = plt.bar(index + 2*bar_width, LPM, bar_width, alpha=opacity, color='r', label='Bi-A*')\n",
    "plt.title('Average pm2.5 concentration (per mile) for Long distance')\n",
    "plt.xticks(index + bar_width, ('L1', 'L2', 'L3'))\n",
    "\n",
    "plt.xlabel('Routes')\n",
    "plt.ylabel('pm 2.5 ' + r'$(\\mu g/m^3)/(mile)$')\n",
    "plt.legend()\n",
    "plt.tight_layout()\n",
    "#plt.show()\n",
    "plt.savefig(\"PM_long.pdf\")"
   ]
  },
  {
   "cell_type": "code",
   "execution_count": null,
   "metadata": {},
   "outputs": [],
   "source": []
  }
 ],
 "metadata": {
  "kernelspec": {
   "display_name": "Python 3",
   "language": "python",
   "name": "python3"
  },
  "language_info": {
   "codemirror_mode": {
    "name": "ipython",
    "version": 3
   },
   "file_extension": ".py",
   "mimetype": "text/x-python",
   "name": "python",
   "nbconvert_exporter": "python",
   "pygments_lexer": "ipython3",
   "version": "3.7.3"
  }
 },
 "nbformat": 4,
 "nbformat_minor": 2
}
