{
 "cells": [
  {
   "cell_type": "code",
   "execution_count": 1,
   "metadata": {},
   "outputs": [],
   "source": [
    "import numpy as np\n",
    "import matplotlib.pyplot as plt\n",
    "import os\n",
    "import pandas as pd"
   ]
  },
  {
   "cell_type": "code",
   "execution_count": 3,
   "metadata": {},
   "outputs": [
    {
     "name": "stdout",
     "output_type": "stream",
     "text": [
      "Index(['Routes', 'RT-Di', 'Node-Di', 'RT-A', 'Node-A', 'RT-BiA', 'Node-BiA',\n",
      "       'PM'],\n",
      "      dtype='object')\n"
     ]
    }
   ],
   "source": [
    "df = pd.read_csv(\"ExperimentResult.csv\")\n",
    "print(df.columns)"
   ]
  },
  {
   "cell_type": "code",
   "execution_count": 9,
   "metadata": {},
   "outputs": [
    {
     "name": "stdout",
     "output_type": "stream",
     "text": [
      "['L1', 'L2', 'L3', 'M1', 'M2', 'M3', 'S1', 'S2', 'S3']\n",
      "[65, 57, 53, 23, 29, 25, 15, 13, 16]\n",
      "[67, 61, 63, 26, 31, 23, 16, 14, 16]\n",
      "[58, 60, 60, 24, 27, 23, 19, 20, 19]\n",
      "[78494, 73048, 61015, 21613, 30172, 19520, 6512, 3161, 3990]\n",
      "[63339, 62137, 56070, 14674, 23663, 12192, 4713, 2137, 2923]\n",
      "[30688, 33728, 32059, 6218, 8948, 5113, 2785, 1136, 2210]\n",
      "[67.53, 78.16, 68.75, 32.28, 42.2, 35.1, 22.84, 13.8, 17.19]\n"
     ]
    }
   ],
   "source": [
    "routes = list(df['Routes'])\n",
    "rt_di = list(df['RT-Di'])\n",
    "rt_A = list(df['RT-A'])\n",
    "rt_BiA = list(df['RT-BiA'])\n",
    "node_di = list(df['Node-Di'])\n",
    "node_A = list(df['Node-A'])\n",
    "node_BiA = list(df['Node-BiA'])\n",
    "PM = list(df['PM'])\n",
    "\n",
    "print(routes)\n",
    "print(rt_di)\n",
    "print(rt_A)\n",
    "print(rt_BiA)\n",
    "print(node_di)\n",
    "print(node_A)\n",
    "print(node_BiA)\n",
    "print(PM)"
   ]
  },
  {
   "cell_type": "code",
   "execution_count": null,
   "metadata": {},
   "outputs": [],
   "source": []
  }
 ],
 "metadata": {
  "kernelspec": {
   "display_name": "Python 3",
   "language": "python",
   "name": "python3"
  },
  "language_info": {
   "codemirror_mode": {
    "name": "ipython",
    "version": 3
   },
   "file_extension": ".py",
   "mimetype": "text/x-python",
   "name": "python",
   "nbconvert_exporter": "python",
   "pygments_lexer": "ipython3",
   "version": "3.7.3"
  }
 },
 "nbformat": 4,
 "nbformat_minor": 2
}
